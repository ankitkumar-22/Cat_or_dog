{
 "nbformat": 4,
 "nbformat_minor": 0,
 "metadata": {
  "colab": {
   "provenance": [],
   "toc_visible": true
  },
  "kernelspec": {
   "name": "python3",
   "language": "python",
   "display_name": "Python 3 (ipykernel)"
  }
 },
 "cells": [
  {
   "cell_type": "markdown",
   "source": [
    "# Convolutional Neural Network"
   ],
   "metadata": {
    "collapsed": false
   }
  },
  {
   "cell_type": "markdown",
   "source": [
    "### Importing the libraries"
   ],
   "metadata": {
    "collapsed": false
   }
  },
  {
   "cell_type": "code",
   "outputs": [
    {
     "name": "stdout",
     "output_type": "stream",
     "text": [
      "WARNING:tensorflow:From C:\\Users\\ankit\\.conda\\envs\\tf_cpu\\lib\\site-packages\\keras\\src\\losses.py:2976: The name tf.losses.sparse_softmax_cross_entropy is deprecated. Please use tf.compat.v1.losses.sparse_softmax_cross_entropy instead.\n"
     ]
    }
   ],
   "source": [
    "import tensorflow as tf\n",
    "from keras.preprocessing.image import ImageDataGenerator"
   ],
   "metadata": {
    "collapsed": false,
    "ExecuteTime": {
     "end_time": "2024-02-25T07:01:14.567266400Z",
     "start_time": "2024-02-25T07:01:02.140317700Z"
    }
   },
   "execution_count": 1
  },
  {
   "cell_type": "code",
   "outputs": [
    {
     "data": {
      "text/plain": "'2.15.0'"
     },
     "execution_count": 2,
     "metadata": {},
     "output_type": "execute_result"
    }
   ],
   "source": [
    "tf.__version__"
   ],
   "metadata": {
    "collapsed": false,
    "ExecuteTime": {
     "end_time": "2024-02-25T07:01:14.581841900Z",
     "start_time": "2024-02-25T07:01:14.571789500Z"
    }
   },
   "execution_count": 2
  },
  {
   "cell_type": "markdown",
   "source": [
    "## Part 1 - Data Preprocessing"
   ],
   "metadata": {
    "collapsed": false
   }
  },
  {
   "cell_type": "markdown",
   "source": [
    "### Preprocessing the Training set"
   ],
   "metadata": {
    "collapsed": false
   }
  },
  {
   "cell_type": "code",
   "outputs": [
    {
     "name": "stdout",
     "output_type": "stream",
     "text": [
      "Found 8000 images belonging to 2 classes.\n"
     ]
    }
   ],
   "source": [
    "train_datagen = ImageDataGenerator(rescale = 1./255,\n",
    "                                   shear_range = 0.2,\n",
    "                                   zoom_range = 0.2,\n",
    "                                   horizontal_flip = True)\n",
    "training_set = train_datagen.flow_from_directory('dataset/training_set',\n",
    "                                                 target_size = (64, 64),\n",
    "                                                 batch_size = 32,\n",
    "                                                 class_mode = 'binary')"
   ],
   "metadata": {
    "collapsed": false,
    "ExecuteTime": {
     "end_time": "2024-02-25T07:01:14.798604600Z",
     "start_time": "2024-02-25T07:01:14.583841100Z"
    }
   },
   "execution_count": 3
  },
  {
   "cell_type": "markdown",
   "source": [
    "### Preprocessing the Test set"
   ],
   "metadata": {
    "collapsed": false
   }
  },
  {
   "cell_type": "code",
   "outputs": [
    {
     "name": "stdout",
     "output_type": "stream",
     "text": [
      "Found 2000 images belonging to 2 classes.\n"
     ]
    }
   ],
   "source": [
    "test_datagen = ImageDataGenerator(rescale = 1./255)\n",
    "test_set = test_datagen.flow_from_directory('dataset/test_set',\n",
    "                                            target_size = (64, 64),\n",
    "                                            batch_size = 32,\n",
    "                                            class_mode = 'binary')"
   ],
   "metadata": {
    "collapsed": false,
    "ExecuteTime": {
     "end_time": "2024-02-25T07:01:14.860825900Z",
     "start_time": "2024-02-25T07:01:14.791446500Z"
    }
   },
   "execution_count": 4
  },
  {
   "cell_type": "markdown",
   "source": [
    "## Part 2 - Building the CNN"
   ],
   "metadata": {
    "collapsed": false
   }
  },
  {
   "cell_type": "markdown",
   "source": [
    "### Initialising the CNN"
   ],
   "metadata": {
    "collapsed": false
   }
  },
  {
   "cell_type": "code",
   "outputs": [
    {
     "name": "stdout",
     "output_type": "stream",
     "text": [
      "WARNING:tensorflow:From C:\\Users\\ankit\\.conda\\envs\\tf_cpu\\lib\\site-packages\\keras\\src\\backend.py:873: The name tf.get_default_graph is deprecated. Please use tf.compat.v1.get_default_graph instead.\n"
     ]
    }
   ],
   "source": [
    "cnn = tf.keras.models.Sequential()"
   ],
   "metadata": {
    "collapsed": false,
    "ExecuteTime": {
     "end_time": "2024-02-25T07:01:15.278033400Z",
     "start_time": "2024-02-25T07:01:14.863038400Z"
    }
   },
   "execution_count": 5
  },
  {
   "cell_type": "markdown",
   "source": [
    "### Step 1 - Convolution"
   ],
   "metadata": {
    "collapsed": false
   }
  },
  {
   "cell_type": "code",
   "outputs": [],
   "source": [
    "cnn.add(tf.keras.layers.Conv2D(filters=32, kernel_size=3, activation='relu', input_shape=[64, 64, 3]))"
   ],
   "metadata": {
    "collapsed": false,
    "ExecuteTime": {
     "end_time": "2024-02-25T07:01:15.340412400Z",
     "start_time": "2024-02-25T07:01:15.279039600Z"
    }
   },
   "execution_count": 6
  },
  {
   "cell_type": "markdown",
   "source": [
    "### Step 2 - Pooling"
   ],
   "metadata": {
    "collapsed": false
   }
  },
  {
   "cell_type": "code",
   "outputs": [
    {
     "name": "stdout",
     "output_type": "stream",
     "text": [
      "WARNING:tensorflow:From C:\\Users\\ankit\\.conda\\envs\\tf_cpu\\lib\\site-packages\\keras\\src\\layers\\pooling\\max_pooling2d.py:161: The name tf.nn.max_pool is deprecated. Please use tf.nn.max_pool2d instead.\n"
     ]
    }
   ],
   "source": [
    "cnn.add(tf.keras.layers.MaxPool2D(pool_size=2, strides=2))"
   ],
   "metadata": {
    "collapsed": false,
    "ExecuteTime": {
     "end_time": "2024-02-25T07:01:15.402846400Z",
     "start_time": "2024-02-25T07:01:15.340412400Z"
    }
   },
   "execution_count": 7
  },
  {
   "cell_type": "markdown",
   "source": [
    "### Adding a second convolutional layer"
   ],
   "metadata": {
    "collapsed": false
   }
  },
  {
   "cell_type": "code",
   "outputs": [],
   "source": [
    "cnn.add(tf.keras.layers.Conv2D(filters=32, kernel_size=3, activation='relu'))\n",
    "cnn.add(tf.keras.layers.MaxPool2D(pool_size=2, strides=2))"
   ],
   "metadata": {
    "collapsed": false,
    "ExecuteTime": {
     "end_time": "2024-02-25T07:01:15.438851800Z",
     "start_time": "2024-02-25T07:01:15.405846300Z"
    }
   },
   "execution_count": 8
  },
  {
   "cell_type": "markdown",
   "source": [
    "### Step 3 - Flattening"
   ],
   "metadata": {
    "collapsed": false
   }
  },
  {
   "cell_type": "code",
   "outputs": [],
   "source": [
    "cnn.add(tf.keras.layers.Flatten())"
   ],
   "metadata": {
    "collapsed": false,
    "ExecuteTime": {
     "end_time": "2024-02-25T07:01:15.451417600Z",
     "start_time": "2024-02-25T07:01:15.437194400Z"
    }
   },
   "execution_count": 9
  },
  {
   "cell_type": "markdown",
   "source": [
    "### Step 4 - Full Connection"
   ],
   "metadata": {
    "collapsed": false
   }
  },
  {
   "cell_type": "code",
   "outputs": [],
   "source": [
    "cnn.add(tf.keras.layers.Dense(units=128, activation='relu'))"
   ],
   "metadata": {
    "collapsed": false,
    "ExecuteTime": {
     "end_time": "2024-02-25T07:01:15.479730700Z",
     "start_time": "2024-02-25T07:01:15.454654Z"
    }
   },
   "execution_count": 10
  },
  {
   "cell_type": "markdown",
   "source": [
    "### Step 5 - Output Layer"
   ],
   "metadata": {
    "collapsed": false
   }
  },
  {
   "cell_type": "code",
   "outputs": [],
   "source": [
    "cnn.add(tf.keras.layers.Dense(units=1, activation='sigmoid'))"
   ],
   "metadata": {
    "collapsed": false,
    "ExecuteTime": {
     "end_time": "2024-02-25T07:01:15.513197800Z",
     "start_time": "2024-02-25T07:01:15.483730700Z"
    }
   },
   "execution_count": 11
  },
  {
   "cell_type": "markdown",
   "source": [
    "## Part 3 - Training the CNN"
   ],
   "metadata": {
    "collapsed": false
   }
  },
  {
   "cell_type": "markdown",
   "source": [
    "### Compiling the CNN"
   ],
   "metadata": {
    "collapsed": false
   }
  },
  {
   "cell_type": "code",
   "outputs": [
    {
     "name": "stdout",
     "output_type": "stream",
     "text": [
      "WARNING:tensorflow:From C:\\Users\\ankit\\.conda\\envs\\tf_cpu\\lib\\site-packages\\keras\\src\\optimizers\\__init__.py:309: The name tf.train.Optimizer is deprecated. Please use tf.compat.v1.train.Optimizer instead.\n"
     ]
    }
   ],
   "source": [
    "cnn.compile(optimizer = 'adam', loss = 'binary_crossentropy', metrics = ['accuracy'])"
   ],
   "metadata": {
    "collapsed": false,
    "ExecuteTime": {
     "end_time": "2024-02-25T07:01:15.630935100Z",
     "start_time": "2024-02-25T07:01:15.515200900Z"
    }
   },
   "execution_count": 12
  },
  {
   "cell_type": "markdown",
   "source": [
    "### Training the CNN on the Training set and evaluating it on the Test set"
   ],
   "metadata": {
    "collapsed": false
   }
  },
  {
   "cell_type": "code",
   "outputs": [
    {
     "name": "stdout",
     "output_type": "stream",
     "text": [
      "Epoch 1/25\n",
      "WARNING:tensorflow:From C:\\Users\\ankit\\.conda\\envs\\tf_cpu\\lib\\site-packages\\keras\\src\\utils\\tf_utils.py:492: The name tf.ragged.RaggedTensorValue is deprecated. Please use tf.compat.v1.ragged.RaggedTensorValue instead.\n",
      "WARNING:tensorflow:From C:\\Users\\ankit\\.conda\\envs\\tf_cpu\\lib\\site-packages\\keras\\src\\engine\\base_layer_utils.py:384: The name tf.executing_eagerly_outside_functions is deprecated. Please use tf.compat.v1.executing_eagerly_outside_functions instead.\n",
      "250/250 [==============================] - 127s 502ms/step - loss: 0.6590 - accuracy: 0.6005 - val_loss: 0.6063 - val_accuracy: 0.6755\n",
      "Epoch 2/25\n",
      "250/250 [==============================] - 30s 118ms/step - loss: 0.6030 - accuracy: 0.6740 - val_loss: 0.5757 - val_accuracy: 0.7060\n",
      "Epoch 3/25\n",
      "250/250 [==============================] - 46s 184ms/step - loss: 0.5644 - accuracy: 0.7091 - val_loss: 0.6100 - val_accuracy: 0.6980\n",
      "Epoch 4/25\n",
      "250/250 [==============================] - 24s 98ms/step - loss: 0.5339 - accuracy: 0.7352 - val_loss: 0.5227 - val_accuracy: 0.7520\n",
      "Epoch 5/25\n",
      "250/250 [==============================] - 27s 107ms/step - loss: 0.5104 - accuracy: 0.7496 - val_loss: 0.5042 - val_accuracy: 0.7605\n",
      "Epoch 6/25\n",
      "250/250 [==============================] - 27s 106ms/step - loss: 0.4970 - accuracy: 0.7549 - val_loss: 0.5104 - val_accuracy: 0.7575\n",
      "Epoch 7/25\n",
      "250/250 [==============================] - 28s 114ms/step - loss: 0.4841 - accuracy: 0.7611 - val_loss: 0.4859 - val_accuracy: 0.7795\n",
      "Epoch 8/25\n",
      "250/250 [==============================] - 25s 101ms/step - loss: 0.4662 - accuracy: 0.7745 - val_loss: 0.4940 - val_accuracy: 0.7675\n",
      "Epoch 9/25\n",
      "250/250 [==============================] - 29s 114ms/step - loss: 0.4570 - accuracy: 0.7774 - val_loss: 0.4747 - val_accuracy: 0.7725\n",
      "Epoch 10/25\n",
      "250/250 [==============================] - 27s 108ms/step - loss: 0.4401 - accuracy: 0.7931 - val_loss: 0.4644 - val_accuracy: 0.7820\n",
      "Epoch 11/25\n",
      "250/250 [==============================] - 26s 104ms/step - loss: 0.4292 - accuracy: 0.7991 - val_loss: 0.4686 - val_accuracy: 0.7835\n",
      "Epoch 12/25\n",
      "250/250 [==============================] - 27s 107ms/step - loss: 0.4210 - accuracy: 0.8030 - val_loss: 0.4680 - val_accuracy: 0.7845\n",
      "Epoch 13/25\n",
      "250/250 [==============================] - 25s 98ms/step - loss: 0.4135 - accuracy: 0.8084 - val_loss: 0.4601 - val_accuracy: 0.7910\n",
      "Epoch 14/25\n",
      "250/250 [==============================] - 26s 106ms/step - loss: 0.3994 - accuracy: 0.8175 - val_loss: 0.5190 - val_accuracy: 0.7635\n",
      "Epoch 15/25\n",
      "250/250 [==============================] - 29s 115ms/step - loss: 0.3934 - accuracy: 0.8184 - val_loss: 0.4543 - val_accuracy: 0.7880\n",
      "Epoch 16/25\n",
      "250/250 [==============================] - 26s 103ms/step - loss: 0.3791 - accuracy: 0.8256 - val_loss: 0.4510 - val_accuracy: 0.7900\n",
      "Epoch 17/25\n",
      "250/250 [==============================] - 25s 99ms/step - loss: 0.3683 - accuracy: 0.8309 - val_loss: 0.5168 - val_accuracy: 0.7750\n",
      "Epoch 18/25\n",
      "250/250 [==============================] - 25s 98ms/step - loss: 0.3589 - accuracy: 0.8366 - val_loss: 0.4663 - val_accuracy: 0.7895\n",
      "Epoch 19/25\n",
      "250/250 [==============================] - 26s 105ms/step - loss: 0.3477 - accuracy: 0.8409 - val_loss: 0.4684 - val_accuracy: 0.8025\n",
      "Epoch 20/25\n",
      "250/250 [==============================] - 30s 119ms/step - loss: 0.3431 - accuracy: 0.8479 - val_loss: 0.5037 - val_accuracy: 0.7780\n",
      "Epoch 21/25\n",
      "250/250 [==============================] - 29s 116ms/step - loss: 0.3343 - accuracy: 0.8514 - val_loss: 0.4613 - val_accuracy: 0.7990\n",
      "Epoch 22/25\n",
      "250/250 [==============================] - 32s 128ms/step - loss: 0.3269 - accuracy: 0.8535 - val_loss: 0.4684 - val_accuracy: 0.8030\n",
      "Epoch 23/25\n",
      "250/250 [==============================] - 28s 113ms/step - loss: 0.3179 - accuracy: 0.8575 - val_loss: 0.5439 - val_accuracy: 0.7810\n",
      "Epoch 24/25\n",
      "250/250 [==============================] - 27s 109ms/step - loss: 0.3005 - accuracy: 0.8676 - val_loss: 0.5628 - val_accuracy: 0.7795\n",
      "Epoch 25/25\n",
      "250/250 [==============================] - 29s 117ms/step - loss: 0.2905 - accuracy: 0.8730 - val_loss: 0.5094 - val_accuracy: 0.7885\n"
     ]
    },
    {
     "data": {
      "text/plain": "<keras.src.callbacks.History at 0x1e260abe820>"
     },
     "execution_count": 13,
     "metadata": {},
     "output_type": "execute_result"
    }
   ],
   "source": [
    "cnn.fit(x = training_set, validation_data = test_set, epochs = 25)"
   ],
   "metadata": {
    "collapsed": false,
    "ExecuteTime": {
     "end_time": "2024-02-25T07:14:34.565316Z",
     "start_time": "2024-02-25T07:01:15.622063300Z"
    }
   },
   "execution_count": 13
  },
  {
   "cell_type": "markdown",
   "source": [
    "## Part 4 - Making a single prediction"
   ],
   "metadata": {
    "collapsed": false
   }
  },
  {
   "cell_type": "code",
   "outputs": [
    {
     "name": "stdout",
     "output_type": "stream",
     "text": [
      "1/1 [==============================] - 0s 98ms/step\n"
     ]
    }
   ],
   "source": [
    "import numpy as np\n",
    "from keras.preprocessing import image\n",
    "test_image = image.load_img('dataset/single_prediction/cat_or_dog_6.jpg', target_size = (64, 64))\n",
    "test_image = image.img_to_array(test_image)\n",
    "test_image = np.expand_dims(test_image, axis = 0)\n",
    "result = cnn.predict(test_image)\n",
    "training_set.class_indices\n",
    "if result[0][0] == 1:\n",
    "  prediction = 'dog'\n",
    "else:\n",
    "  prediction = 'cat'"
   ],
   "metadata": {
    "collapsed": false,
    "ExecuteTime": {
     "end_time": "2024-02-25T07:14:34.766430200Z",
     "start_time": "2024-02-25T07:14:34.571288600Z"
    }
   },
   "execution_count": 14
  },
  {
   "cell_type": "code",
   "outputs": [
    {
     "name": "stdout",
     "output_type": "stream",
     "text": [
      "dog\n"
     ]
    }
   ],
   "source": [
    "print(prediction)"
   ],
   "metadata": {
    "collapsed": false,
    "ExecuteTime": {
     "end_time": "2024-02-25T07:14:34.783462100Z",
     "start_time": "2024-02-25T07:14:34.768431200Z"
    }
   },
   "execution_count": 15
  }
 ]
}
